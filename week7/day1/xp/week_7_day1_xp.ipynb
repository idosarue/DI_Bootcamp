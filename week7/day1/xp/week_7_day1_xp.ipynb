{
 "cells": [
  {
   "cell_type": "code",
   "execution_count": 225,
   "id": "4f3ef357",
   "metadata": {},
   "outputs": [
    {
     "data": {
      "text/plain": [
       "100"
      ]
     },
     "execution_count": 225,
     "metadata": {},
     "output_type": "execute_result"
    }
   ],
   "source": [
    "#1\n",
    "import numpy as np\n",
    "def num_arr():\n",
    "    return np.array(range(6,404,4))\n",
    "num_arr()"
   ]
  },
  {
   "cell_type": "code",
   "execution_count": 30,
   "id": "04dd2294",
   "metadata": {},
   "outputs": [
    {
     "data": {
      "text/plain": [
       "array([1., 2., 3., 5., 6., 7.])"
      ]
     },
     "execution_count": 30,
     "metadata": {},
     "output_type": "execute_result"
    }
   ],
   "source": [
    "#2\n",
    "a = np.array([1,2,3,np.nan,5,6,7,np.nan])\n",
    "a = a[~np.isnan(a)]\n",
    "a"
   ]
  },
  {
   "cell_type": "code",
   "execution_count": 52,
   "id": "d4733ab0",
   "metadata": {},
   "outputs": [
    {
     "name": "stdout",
     "output_type": "stream",
     "text": [
      "95\n",
      "53\n",
      "50\n",
      "96\n",
      "99\n"
     ]
    },
    {
     "data": {
      "text/plain": [
       "array([[42, 95, 93, 41, 65, 47],\n",
       "       [43, 53,  4, 29, 37, 12],\n",
       "       [46,  1, 18, 13, 32, 50],\n",
       "       [96, 21, 54, 78, 45, 65],\n",
       "       [46, 50, 99, 73, 27, 14]])"
      ]
     },
     "execution_count": 52,
     "metadata": {},
     "output_type": "execute_result"
    }
   ],
   "source": [
    "#3\n",
    "from numpy import random\n",
    "x = random.randint(100, size = (5,6))\n",
    "for line in x:\n",
    "    print(line.max())\n",
    "x"
   ]
  },
  {
   "cell_type": "code",
   "execution_count": 226,
   "id": "f30c7a81",
   "metadata": {},
   "outputs": [
    {
     "data": {
      "text/plain": [
       "d    42\n",
       "f    38\n",
       "l    35\n",
       "h    34\n",
       "i    33\n",
       "o    32\n",
       "a    32\n",
       "m    31\n",
       "e    31\n",
       "g    30\n",
       "p    29\n",
       "k    29\n",
       "c    28\n",
       "n    28\n",
       "j    25\n",
       "b    23\n",
       "dtype: int64"
      ]
     },
     "execution_count": 226,
     "metadata": {},
     "output_type": "execute_result"
    }
   ],
   "source": [
    "#4\n",
    "import pandas as pd\n",
    "series = pd.Series(np.take(list('abcdefghijklmnop'), np.random.randint(16, size=500)))\n",
    "pd.unique(series)\n",
    "series.value_counts()"
   ]
  },
  {
   "cell_type": "code",
   "execution_count": 128,
   "id": "954b41bf",
   "metadata": {},
   "outputs": [
    {
     "data": {
      "text/plain": [
       "[2, 0, 1, 3, 5, 3]"
      ]
     },
     "execution_count": 128,
     "metadata": {},
     "output_type": "execute_result"
    }
   ],
   "source": [
    "#5\n",
    "series = pd.Series(['01 Jan 2020', '10-19-2020', '20150303', '2013/04/04', '2012-05-05', '2013-06-06T12:20'])\n",
    "date_series.dt.day.tolist()\n",
    "date_series.dt.isocalendar().week.tolist()\n",
    "date_series.dt.day_of_year.tolist()\n",
    "date_series.dt.weekday.tolist()"
   ]
  },
  {
   "cell_type": "code",
   "execution_count": 451,
   "id": "9a015c5d",
   "metadata": {},
   "outputs": [
    {
     "data": {
      "text/plain": [
       "'Luggage.room'"
      ]
     },
     "execution_count": 451,
     "metadata": {},
     "output_type": "execute_result"
    }
   ],
   "source": [
    "#6\n",
    "df = pd.read_csv('https://raw.githubusercontent.com/selva86/datasets/master/Cars93_miss.csv')\n",
    "len(pd.unique(df.dtypes))\n",
    "df2 = df.rename(columns={\"Type\": \"TypeOfCar\"})\n",
    "df2.head()\n",
    "df.isnull().sum()\n",
    "df.isnull().sum().idxmax()"
   ]
  },
  {
   "cell_type": "code",
   "execution_count": 453,
   "id": "2d912837",
   "metadata": {},
   "outputs": [
    {
     "data": {
      "text/html": [
       "<div>\n",
       "<style scoped>\n",
       "    .dataframe tbody tr th:only-of-type {\n",
       "        vertical-align: middle;\n",
       "    }\n",
       "\n",
       "    .dataframe tbody tr th {\n",
       "        vertical-align: top;\n",
       "    }\n",
       "\n",
       "    .dataframe thead th {\n",
       "        text-align: right;\n",
       "    }\n",
       "</style>\n",
       "<table border=\"1\" class=\"dataframe\">\n",
       "  <thead>\n",
       "    <tr style=\"text-align: right;\">\n",
       "      <th></th>\n",
       "      <th>Manufacturer</th>\n",
       "      <th>Model</th>\n",
       "      <th>Type</th>\n",
       "      <th>Min.Price</th>\n",
       "      <th>Price</th>\n",
       "      <th>Max.Price</th>\n",
       "      <th>MPG.city</th>\n",
       "      <th>MPG.highway</th>\n",
       "      <th>AirBags</th>\n",
       "      <th>DriveTrain</th>\n",
       "      <th>...</th>\n",
       "      <th>Fuel.tank.capacity</th>\n",
       "      <th>Passengers</th>\n",
       "      <th>Wheelbase</th>\n",
       "      <th>Width</th>\n",
       "      <th>Turn.circle</th>\n",
       "      <th>Rear.seat.room</th>\n",
       "      <th>Luggage.room</th>\n",
       "      <th>Weight</th>\n",
       "      <th>Origin</th>\n",
       "      <th>Make</th>\n",
       "    </tr>\n",
       "  </thead>\n",
       "  <tbody>\n",
       "    <tr>\n",
       "      <th>0</th>\n",
       "      <td>Acura</td>\n",
       "      <td>Integra</td>\n",
       "      <td>Small</td>\n",
       "      <td>12.9</td>\n",
       "      <td>15.9</td>\n",
       "      <td>18.8</td>\n",
       "      <td>25.0</td>\n",
       "      <td>31.0</td>\n",
       "      <td>None</td>\n",
       "      <td>Front</td>\n",
       "      <td>...</td>\n",
       "      <td>13.2</td>\n",
       "      <td>5.0</td>\n",
       "      <td>102.0</td>\n",
       "      <td>68.0</td>\n",
       "      <td>37.0</td>\n",
       "      <td>26.5</td>\n",
       "      <td>NaN</td>\n",
       "      <td>2705.0</td>\n",
       "      <td>non-USA</td>\n",
       "      <td>Acura Integra</td>\n",
       "    </tr>\n",
       "    <tr>\n",
       "      <th>1</th>\n",
       "      <td>NaN</td>\n",
       "      <td>Legend</td>\n",
       "      <td>Midsize</td>\n",
       "      <td>29.2</td>\n",
       "      <td>33.9</td>\n",
       "      <td>38.7</td>\n",
       "      <td>18.0</td>\n",
       "      <td>25.0</td>\n",
       "      <td>Driver &amp; Passenger</td>\n",
       "      <td>Front</td>\n",
       "      <td>...</td>\n",
       "      <td>18.0</td>\n",
       "      <td>5.0</td>\n",
       "      <td>115.0</td>\n",
       "      <td>71.0</td>\n",
       "      <td>38.0</td>\n",
       "      <td>30.0</td>\n",
       "      <td>15.0</td>\n",
       "      <td>3560.0</td>\n",
       "      <td>non-USA</td>\n",
       "      <td>Acura Legend</td>\n",
       "    </tr>\n",
       "    <tr>\n",
       "      <th>2</th>\n",
       "      <td>Audi</td>\n",
       "      <td>90</td>\n",
       "      <td>Compact</td>\n",
       "      <td>25.9</td>\n",
       "      <td>29.1</td>\n",
       "      <td>32.3</td>\n",
       "      <td>20.0</td>\n",
       "      <td>26.0</td>\n",
       "      <td>Driver only</td>\n",
       "      <td>Front</td>\n",
       "      <td>...</td>\n",
       "      <td>16.9</td>\n",
       "      <td>5.0</td>\n",
       "      <td>102.0</td>\n",
       "      <td>67.0</td>\n",
       "      <td>37.0</td>\n",
       "      <td>28.0</td>\n",
       "      <td>14.0</td>\n",
       "      <td>3375.0</td>\n",
       "      <td>non-USA</td>\n",
       "      <td>Audi 90</td>\n",
       "    </tr>\n",
       "    <tr>\n",
       "      <th>3</th>\n",
       "      <td>Audi</td>\n",
       "      <td>100</td>\n",
       "      <td>Midsize</td>\n",
       "      <td>NaN</td>\n",
       "      <td>37.7</td>\n",
       "      <td>44.6</td>\n",
       "      <td>19.0</td>\n",
       "      <td>26.0</td>\n",
       "      <td>Driver &amp; Passenger</td>\n",
       "      <td>NaN</td>\n",
       "      <td>...</td>\n",
       "      <td>21.1</td>\n",
       "      <td>6.0</td>\n",
       "      <td>106.0</td>\n",
       "      <td>NaN</td>\n",
       "      <td>37.0</td>\n",
       "      <td>31.0</td>\n",
       "      <td>17.0</td>\n",
       "      <td>3405.0</td>\n",
       "      <td>non-USA</td>\n",
       "      <td>Audi 100</td>\n",
       "    </tr>\n",
       "    <tr>\n",
       "      <th>4</th>\n",
       "      <td>BMW</td>\n",
       "      <td>535i</td>\n",
       "      <td>Midsize</td>\n",
       "      <td>NaN</td>\n",
       "      <td>30.0</td>\n",
       "      <td>NaN</td>\n",
       "      <td>22.0</td>\n",
       "      <td>30.0</td>\n",
       "      <td>NaN</td>\n",
       "      <td>Rear</td>\n",
       "      <td>...</td>\n",
       "      <td>21.1</td>\n",
       "      <td>4.0</td>\n",
       "      <td>109.0</td>\n",
       "      <td>69.0</td>\n",
       "      <td>39.0</td>\n",
       "      <td>27.0</td>\n",
       "      <td>13.0</td>\n",
       "      <td>3640.0</td>\n",
       "      <td>non-USA</td>\n",
       "      <td>BMW 535i</td>\n",
       "    </tr>\n",
       "  </tbody>\n",
       "</table>\n",
       "<p>5 rows × 25 columns</p>\n",
       "</div>"
      ],
      "text/plain": [
       "  Manufacturer    Model     Type  Min.Price  Price  Max.Price  MPG.city  \\\n",
       "0        Acura  Integra    Small       12.9   15.9       18.8      25.0   \n",
       "1          NaN   Legend  Midsize       29.2   33.9       38.7      18.0   \n",
       "2         Audi       90  Compact       25.9   29.1       32.3      20.0   \n",
       "3         Audi      100  Midsize        NaN   37.7       44.6      19.0   \n",
       "4          BMW     535i  Midsize        NaN   30.0        NaN      22.0   \n",
       "\n",
       "   MPG.highway             AirBags DriveTrain  ... Fuel.tank.capacity  \\\n",
       "0         31.0                None      Front  ...               13.2   \n",
       "1         25.0  Driver & Passenger      Front  ...               18.0   \n",
       "2         26.0         Driver only      Front  ...               16.9   \n",
       "3         26.0  Driver & Passenger        NaN  ...               21.1   \n",
       "4         30.0                 NaN       Rear  ...               21.1   \n",
       "\n",
       "   Passengers  Wheelbase  Width Turn.circle  Rear.seat.room  Luggage.room  \\\n",
       "0         5.0      102.0   68.0        37.0            26.5           NaN   \n",
       "1         5.0      115.0   71.0        38.0            30.0          15.0   \n",
       "2         5.0      102.0   67.0        37.0            28.0          14.0   \n",
       "3         6.0      106.0    NaN        37.0            31.0          17.0   \n",
       "4         4.0      109.0   69.0        39.0            27.0          13.0   \n",
       "\n",
       "   Weight   Origin           Make  \n",
       "0  2705.0  non-USA  Acura Integra  \n",
       "1  3560.0  non-USA   Acura Legend  \n",
       "2  3375.0  non-USA        Audi 90  \n",
       "3  3405.0  non-USA       Audi 100  \n",
       "4  3640.0  non-USA       BMW 535i  \n",
       "\n",
       "[5 rows x 25 columns]"
      ]
     },
     "execution_count": 453,
     "metadata": {},
     "output_type": "execute_result"
    }
   ],
   "source": [
    "#7\n",
    "new_df = df.drop(columns=['Length', 'EngineSize'])\n",
    "new_df2 = df.drop(['Length', 'EngineSize'], axis=1)\n",
    "new_df2.head()"
   ]
  },
  {
   "cell_type": "code",
   "execution_count": 475,
   "id": "bc180d1d",
   "metadata": {},
   "outputs": [
    {
     "data": {
      "text/html": [
       "<div>\n",
       "<style scoped>\n",
       "    .dataframe tbody tr th:only-of-type {\n",
       "        vertical-align: middle;\n",
       "    }\n",
       "\n",
       "    .dataframe tbody tr th {\n",
       "        vertical-align: top;\n",
       "    }\n",
       "\n",
       "    .dataframe thead th {\n",
       "        text-align: right;\n",
       "    }\n",
       "</style>\n",
       "<table border=\"1\" class=\"dataframe\">\n",
       "  <thead>\n",
       "    <tr style=\"text-align: right;\">\n",
       "      <th></th>\n",
       "      <th>fruit</th>\n",
       "      <th>weight</th>\n",
       "      <th>price_x</th>\n",
       "      <th>pazham</th>\n",
       "      <th>kilo</th>\n",
       "      <th>price_y</th>\n",
       "    </tr>\n",
       "  </thead>\n",
       "  <tbody>\n",
       "    <tr>\n",
       "      <th>0</th>\n",
       "      <td>apple</td>\n",
       "      <td>high</td>\n",
       "      <td>4</td>\n",
       "      <td>apple</td>\n",
       "      <td>high</td>\n",
       "      <td>12</td>\n",
       "    </tr>\n",
       "    <tr>\n",
       "      <th>1</th>\n",
       "      <td>orange</td>\n",
       "      <td>low</td>\n",
       "      <td>0</td>\n",
       "      <td>orange</td>\n",
       "      <td>low</td>\n",
       "      <td>14</td>\n",
       "    </tr>\n",
       "  </tbody>\n",
       "</table>\n",
       "</div>"
      ],
      "text/plain": [
       "    fruit weight  price_x  pazham  kilo  price_y\n",
       "0   apple   high        4   apple  high       12\n",
       "1  orange    low        0  orange   low       14"
      ]
     },
     "execution_count": 475,
     "metadata": {},
     "output_type": "execute_result"
    }
   ],
   "source": [
    "#8\n",
    "df1 = pd.DataFrame({'fruit': ['apple', 'banana', 'orange'] * 3,\n",
    "                    'weight': ['high', 'medium', 'low'] * 3,\n",
    "                    'price': np.random.randint(0, 15, 9)})\n",
    "\n",
    "df2 = pd.DataFrame({'pazham': ['apple', 'orange', 'pine'] * 2,\n",
    "                    'kilo': ['high', 'low'] * 3,\n",
    "                    'price': np.random.randint(0, 15, 6)})\n",
    "\n",
    "df1 = df1.drop_duplicates(subset='fruit', keep='first')\n",
    "df2 = df2.drop_duplicates(subset='pazham', keep='first')\n",
    "\n",
    "merged_df = df1.merge(df2, left_on='fruit', right_on='pazham')\n",
    "merged_df"
   ]
  },
  {
   "cell_type": "code",
   "execution_count": 590,
   "id": "2350ea4b",
   "metadata": {},
   "outputs": [
    {
     "name": "stdout",
     "output_type": "stream",
     "text": [
      "0 STD       City        State\n",
      "1  33    Kolkata  West Bengal\n",
      "2  44    Chennai   Tamil Nadu\n",
      "3  40  Hyderabad    Telengana\n",
      "4  80  Bangalore    Karnataka\n"
     ]
    }
   ],
   "source": [
    "#9\n",
    "df = pd.DataFrame([\"STD,City\\tState\",\n",
    "\"33,Kolkata\\tWest Bengal\",\n",
    "\"44,Chennai\\tTamil Nadu\",\n",
    "\"40,Hyderabad\\tTelengana\",\n",
    "\"80,Bangalore\\tKarnataka\"], columns=['row'])\n",
    "df_out = df.row.str.split(',|\\t', expand=True)\n",
    "new_header = df_out.iloc[0]\n",
    "df_out = df_out[1:]\n",
    "df_out.columns = new_header\n",
    "print(df_out)"
   ]
  },
  {
   "cell_type": "code",
   "execution_count": 597,
   "id": "0f79b251",
   "metadata": {},
   "outputs": [
    {
     "data": {
      "image/png": "[encoded data removed]",
      "text/plain": [
       "<Figure size 432x288 with 1 Axes>"
      ]
     },
     "metadata": {
      "needs_background": "light"
     },
     "output_type": "display_data"
    }
   ],
   "source": [
    "#10\n",
    "import matplotlib.pyplot as plt\n",
    "names = [\"mpg\", \"cylinders\", \"displacement\", \"horsepower\", \"weight\", \"acceleration\", \"model_year\", \"origin\", \"car_name\"]\n",
    "df_mpg = pd.read_csv(\"auto-mpg.data\", header=None, names=names, delim_whitespace=True)\n",
    "def scatter_plot(df):\n",
    "    plt.scatter(df['displacement'], df['acceleration'])\n",
    "    plt.xlabel('displacement')\n",
    "    plt.ylabel('acceleration')\n",
    "    plt.grid() \n",
    "    plt.show()\n",
    "scatter_plot(df_mpg)"
   ]
  },
  {
   "cell_type": "code",
   "execution_count": 741,
   "id": "8be9bdd9",
   "metadata": {},
   "outputs": [
    {
     "data": {
      "image/png": "[encoded data removed]",
      "text/plain": [
       "<Figure size 720x288 with 1 Axes>"
      ]
     },
     "metadata": {
      "needs_background": "light"
     },
     "output_type": "display_data"
    }
   ],
   "source": [
    "#11\n",
    "def bar_plot(df):\n",
    "    x = df[df_mpg.car_name.str.contains('toyota')]\n",
    "    toyota = x[x.model_year == 78].cylinders.mean()\n",
    "    c = df[df.model_year == 78].cylinders.mean()\n",
    "    index = ['toyota_78','rest_78']\n",
    "    cylinders = [toyota, c]\n",
    "    df = pd.DataFrame({'cylinders': cylinders}, index=index)\n",
    "    ax = df.plot.bar(rot=0, figsize=(10,4))\n",
    "bar_plot(df_mpg)"
   ]
  },
  {
   "cell_type": "code",
   "execution_count": 748,
   "id": "137147ea",
   "metadata": {},
   "outputs": [
    {
     "data": {
      "image/png": "[encoded data removed]",
      "text/plain": [
       "<Figure size 432x288 with 1 Axes>"
      ]
     },
     "metadata": {
      "needs_background": "light"
     },
     "output_type": "display_data"
    }
   ],
   "source": [
    "#11\n",
    "def line_plot(df):\n",
    "    weight = df[df.car_name.str.contains('toyota')].weight\n",
    "    year = df[df.car_name.str.contains('toyota')].model_year\n",
    "    plt.plot(year, weight)\n",
    "    plt.xlabel('model_year')\n",
    "    plt.ylabel('weight(kg)')\n",
    "    plt.title('toyota weight throughout the years')\n",
    "    plt.show()\n",
    "line_plot(df_mpg)"
   ]
  },
  {
   "cell_type": "code",
   "execution_count": 753,
   "id": "b8c49b62",
   "metadata": {},
   "outputs": [
    {
     "data": {
      "image/png": "[encoded data removed]",
      "text/plain": [
       "<Figure size 432x288 with 1 Axes>"
      ]
     },
     "metadata": {
      "needs_background": "light"
     },
     "output_type": "display_data"
    }
   ],
   "source": [
    "13\n",
    "def bar_plot_acc(df):\n",
    "    average_acc_70 = df[df.model_year == 78].acceleration.mean()\n",
    "    average_acc_82 = df[df.model_year == 82].acceleration.mean()\n",
    "    index = ['average acceleration 78','average acceleration 82']\n",
    "    acc = [average_acc_70, average_acc_82]\n",
    "    df = pd.DataFrame({'acceleration': acc}, index=index)\n",
    "    ax = df.plot.bar(rot=0)\n",
    "bar_plot_acc(df_mpg)\n"
   ]
  },
  {
   "cell_type": "code",
   "execution_count": null,
   "id": "1b8220ba",
   "metadata": {},
   "outputs": [],
   "source": []
  }
 ],
 "metadata": {
  "kernelspec": {
   "display_name": "Python 3 (ipykernel)",
   "language": "python",
   "name": "python3"
  },
  "language_info": {
   "codemirror_mode": {
    "name": "ipython",
    "version": 3
   },
   "file_extension": ".py",
   "mimetype": "text/x-python",
   "name": "python",
   "nbconvert_exporter": "python",
   "pygments_lexer": "ipython3",
   "version": "3.9.6"
  }
 },
 "nbformat": 4,
 "nbformat_minor": 5
}
