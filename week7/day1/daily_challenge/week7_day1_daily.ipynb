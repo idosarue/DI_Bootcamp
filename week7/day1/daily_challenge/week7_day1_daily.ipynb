{
 "cells": [
  {
   "cell_type": "code",
   "execution_count": 206,
   "id": "8c2b295f",
   "metadata": {},
   "outputs": [
    {
     "name": "stdout",
     "output_type": "stream",
     "text": [
      "[[72, 12, 6], [50, 23, 72], [35, 95, 76], [28, 39, 25], [67, 38, 10], [67, 16, 10], [38, 18, 49], [31, 95, 17], [32, 24, 66], [55, 4, 85], [4, 26, 70], [56, 66, 20]]\n",
      "[35, 95, 76]\n",
      "[6, 72, 76, 25, 10, 10, 49, 17, 66, 85, 70, 20]\n",
      "[[72, 12, 6], [50, 23, 72], [35, 95, 76], [28, 39, 25], [67, 38, 10], [67, 16, 10], [38, 18, 49], [31, 95, 17], [32, 24, 66], [55, 4, 85], [4, 26, 70], [7, 7, 7]]\n",
      "235\n",
      "[[72, 12, 6], [50, 23, 72], [35, 95, 76], [28, 39, 25], [67, 38, 10], [67, 16, 10], [38, 18, 49], [31, 95, 17], [32, 24, 66], [55, 4, 85], [4, 26, 70], [235, 235, 235]]\n"
     ]
    }
   ],
   "source": [
    "\n",
    "import numpy as np\n",
    "from numpy import random\n",
    "#******python list****\n",
    "n = random.randint(2,39)\n",
    "m = random.randint(2,49)\n",
    "num_of_rows = [[random.randint(100) for i in range(n)] for i in range(m)]\n",
    "print(num_of_rows)\n",
    "print(num_of_rows[2])\n",
    "x = [i[2] for i in num_of_rows]\n",
    "print(x)\n",
    "last_row_7 = [7 for i in num_of_rows[-1]]\n",
    "num_of_rows[-1] = last_row_7\n",
    "print(num_of_rows)\n",
    "sum_one = sum(num_of_rows[0])\n",
    "sum_two = sum(num_of_rows[1])\n",
    "sum_one_two = sum_one + sum_two\n",
    "print(sum_one_two)\n",
    "last_row = [sum_one_two for i in num_of_rows[-1]]\n",
    "num_of_rows[-1] = last_row\n",
    "print(num_of_rows)\n",
    "\n",
    "#******numpy***\n",
    "n = random.randint(2,39)\n",
    "m = random.randint(2,49)\n",
    "arr_2nd = random.randint(100, size=(n,m))\n",
    "print(arr_2nd)\n",
    "print(arr_2nd[2])\n",
    "print(arr_2nd[:,2])\n",
    "last_row_7 = [7 for i in arr_2nd[-1]]\n",
    "arr_2nd[-1] = last_row_7\n",
    "print(arr_2nd)\n",
    "sum_one_two = np.sum([arr_2nd[0], arr_2nd[1]])\n",
    "last_row_sum_one_two = [sum_one_two for i in arr_2nd[-1]]\n",
    "arr_2nd[-1] = last_row_sum_one_two\n",
    "\n",
    "print(arr_2nd)"
   ]
  },
  {
   "cell_type": "code",
   "execution_count": null,
   "id": "3a36edd3",
   "metadata": {},
   "outputs": [],
   "source": []
  },
  {
   "cell_type": "code",
   "execution_count": null,
   "id": "e38bf045",
   "metadata": {},
   "outputs": [],
   "source": []
  },
  {
   "cell_type": "code",
   "execution_count": null,
   "id": "57de282c",
   "metadata": {},
   "outputs": [],
   "source": []
  }
 ],
 "metadata": {
  "kernelspec": {
   "display_name": "Python 3 (ipykernel)",
   "language": "python",
   "name": "python3"
  },
  "language_info": {
   "codemirror_mode": {
    "name": "ipython",
    "version": 3
   },
   "file_extension": ".py",
   "mimetype": "text/x-python",
   "name": "python",
   "nbconvert_exporter": "python",
   "pygments_lexer": "ipython3",
   "version": "3.9.6"
  }
 },
 "nbformat": 4,
 "nbformat_minor": 5
}
